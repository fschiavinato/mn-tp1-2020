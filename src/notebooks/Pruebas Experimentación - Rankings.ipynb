{
 "cells": [
  {
   "cell_type": "markdown",
   "metadata": {},
   "source": [
    "### Vamos a dejar distintos tipos de tests donde tratamos de abusar de los rankings"
   ]
  },
  {
   "cell_type": "code",
   "execution_count": 2,
   "metadata": {},
   "outputs": [],
   "source": [
    "from subprocess import *\n",
    "import os\n",
    "import pandas as pd\n",
    "\n",
    "#---------------CONFIGURACION---------------#\n",
    "metodos = {\n",
    "    \"cmm\": \"0\",\n",
    "    \"wp\": \"1\",\n",
    "    \"elo\": \"2\"\n",
    "}\n",
    "GLOBAL_PATH = os.getcwd()\n",
    "executable = GLOBAL_PATH+'/../tp' if os.name == 'posix' else GLOBAL_PATH+'/../tp.exe' #Para que funcione en todos los SO.\n",
    "outputPath = GLOBAL_PATH+'/tmp/comparacion_ranking_jupyter.out' #Archivo donde nos va a devolver el resultado el programa de C++\n",
    "inputPath  = GLOBAL_PATH+'/tmp/comparacion_ranking_jupyter.in' #Archivo donde vamos a escribir la entrada para que pueda leer el programa de C++\n",
    "\n",
    "def call(*popenargs, timeout=None, **kwargs):\n",
    "    with Popen(*popenargs, **kwargs) as p:\n",
    "        try:\n",
    "            return p.wait(timeout=timeout)\n",
    "        except:  \n",
    "            p.kill()\n",
    "            raise\n",
    "            \n",
    "def runTP(data, nombresEquipos, metodo):\n",
    "    \n",
    "    text_file = open(inputPath, \"w\")\n",
    "    text_file.write(data)\n",
    "    text_file.close()\n",
    "    call([executable, inputPath, outputPath, metodo])\n",
    "    with open(outputPath, 'r') as factual:\n",
    "      results = [float(x.strip()) for x in factual.readlines() if len(x.strip()) > 0]\n",
    "    \n",
    "    return [x for _,x in sorted(zip(results,nombresEquipos), reverse=True)] #Devolvemos los equipos ordenados por el ranking\n",
    "    \n",
    "def runTPWithAllMethods(data, nombresEquipos):\n",
    "    result = pd.DataFrame()\n",
    "    for x in dict.keys(metodos):\n",
    "        result.insert(len(result.columns),x,runTP(data, nombresEquipos, metodos[x]))\n",
    "        \n",
    "    return result\n"
   ]
  },
  {
   "cell_type": "markdown",
   "metadata": {},
   "source": [
    "### 1 - Ganarle al equipo del mejor rating (al principio)"
   ]
  },
  {
   "cell_type": "code",
   "execution_count": 3,
   "metadata": {},
   "outputs": [
    {
     "name": "stdout",
     "output_type": "stream",
     "text": [
      "  cmm wp elo\n",
      "0   F  F   A\n",
      "1   A  A   F\n",
      "2   E  E   E\n",
      "3   D  D   D\n",
      "4   C  C   C\n",
      "5   B  B   B\n"
     ]
    }
   ],
   "source": [
    "#fecha, equipo1, goles1, equipo2, goles2\n",
    "nombresEquipos = ['A','B','C','D','E','F']\n",
    "data = \"\"\"6 5\n",
    "1 1 0 6 1\n",
    "1 1 1 2 0\n",
    "1 1 1 3 0\n",
    "1 1 1 4 0\n",
    "1 1 1 5 0\"\"\"\n",
    "\n",
    "print(runTPWithAllMethods(data, nombresEquipos))"
   ]
  },
  {
   "cell_type": "markdown",
   "metadata": {},
   "source": [
    "### 1b - Ganarle al equipo del mejor rating (al final)"
   ]
  },
  {
   "cell_type": "code",
   "execution_count": 4,
   "metadata": {},
   "outputs": [
    {
     "name": "stdout",
     "output_type": "stream",
     "text": [
      "  cmm wp elo\n",
      "0   F  F   F\n",
      "1   A  A   A\n",
      "2   E  E   E\n",
      "3   D  D   D\n",
      "4   C  C   C\n",
      "5   B  B   B\n"
     ]
    }
   ],
   "source": [
    "#fecha, equipo1, goles1, equipo2, goles2\n",
    "nombresEquipos = ['A','B','C','D','E','F']\n",
    "data = \"\"\"6 5\n",
    "1 1 1 2 0\n",
    "1 1 1 3 0\n",
    "1 1 1 4 0\n",
    "1 1 1 5 0\n",
    "1 1 0 6 1\"\"\"\n",
    "\n",
    "print(runTPWithAllMethods(data, nombresEquipos))"
   ]
  },
  {
   "cell_type": "markdown",
   "metadata": {},
   "source": [
    "### 2 - Ganarle muchas veces a alguien vs ganarle una sola vez"
   ]
  },
  {
   "cell_type": "code",
   "execution_count": 5,
   "metadata": {},
   "outputs": [
    {
     "name": "stdout",
     "output_type": "stream",
     "text": [
      "  cmm wp elo\n",
      "0   A  C   A\n",
      "1   C  A   C\n",
      "2   B  B   B\n"
     ]
    }
   ],
   "source": [
    "#fecha, equipo1, goles1, equipo2, goles2\n",
    "nombresEquipos = ['A','B','C']\n",
    "data = \"\"\"3 9\n",
    "1 1 1 2 0\n",
    "1 1 1 2 0\n",
    "1 1 1 2 0\n",
    "1 1 1 2 0\n",
    "1 1 1 2 0\n",
    "1 1 1 2 0\n",
    "1 1 1 2 0\n",
    "1 1 1 2 0\n",
    "1 3 1 2 0\"\"\"\n",
    "\n",
    "print(runTPWithAllMethods(data, nombresEquipos))"
   ]
  },
  {
   "cell_type": "markdown",
   "metadata": {},
   "source": [
    "### 3 - Ganar todos los partidos menos uno vs ganar un solo partido"
   ]
  },
  {
   "cell_type": "code",
   "execution_count": 6,
   "metadata": {},
   "outputs": [
    {
     "name": "stdout",
     "output_type": "stream",
     "text": [
      "  cmm wp elo\n",
      "0   B  F   B\n",
      "1   A  B   A\n",
      "2   F  A   F\n",
      "3   D  D   C\n",
      "4   C  C   D\n",
      "5   E  E   E\n"
     ]
    }
   ],
   "source": [
    "#fecha, equipo1, goles1, equipo2, goles2\n",
    "nombresEquipos = ['A','B','C','D','E','F']\n",
    "data = \"\"\"6 11\n",
    "1 1 1 2 0\n",
    "1 1 1 3 0\n",
    "1 1 0 4 1\n",
    "1 1 1 5 0\n",
    "1 2 1 3 0\n",
    "1 2 1 4 0\n",
    "1 2 1 5 0\n",
    "1 3 1 4 0\n",
    "1 3 1 5 0\n",
    "1 4 1 5 0\n",
    "1 6 1 5 0\"\"\"\n",
    "\n",
    "print(runTPWithAllMethods(data, nombresEquipos))"
   ]
  },
  {
   "cell_type": "markdown",
   "metadata": {},
   "source": [
    "### 4 - Equipo que mejora con el tiempo"
   ]
  },
  {
   "cell_type": "code",
   "execution_count": 7,
   "metadata": {},
   "outputs": [
    {
     "name": "stdout",
     "output_type": "stream",
     "text": [
      "  cmm wp elo\n",
      "0   F  F   A\n",
      "1   E  E   F\n",
      "2   D  D   E\n",
      "3   C  C   D\n",
      "4   B  B   C\n",
      "5   A  A   B\n"
     ]
    }
   ],
   "source": [
    "#fecha, equipo1, goles1, equipo2, goles2\n",
    "nombresEquipos = ['A','B','C','D','E','F']\n",
    "data = \"\"\"6 10\n",
    "1 1 0 2 1\n",
    "1 1 0 3 1\n",
    "1 1 0 4 1\n",
    "1 1 0 5 1\n",
    "1 1 0 6 1\n",
    "1 1 1 2 0\n",
    "1 1 1 3 0\n",
    "1 1 1 4 0\n",
    "1 1 1 5 0\n",
    "1 1 1 6 0\"\"\"\n",
    "\n",
    "print(runTPWithAllMethods(data, nombresEquipos))"
   ]
  },
  {
   "cell_type": "markdown",
   "metadata": {},
   "source": [
    "### 5 - Ganarle a los mejores vs ganarle a los peores"
   ]
  },
  {
   "cell_type": "code",
   "execution_count": 10,
   "metadata": {},
   "outputs": [
    {
     "name": "stdout",
     "output_type": "stream",
     "text": [
      "  cmm wp elo\n",
      "0   A  B   A\n",
      "1   B  A   B\n",
      "2   E  E   E\n",
      "3   D  D   D\n",
      "4   C  C   C\n",
      "5   I  I   I\n",
      "6   H  H   H\n",
      "7   G  G   G\n",
      "8   F  F   F\n"
     ]
    }
   ],
   "source": [
    "#fecha, equipo1, goles1, equipo2, goles2\n",
    "nombresEquipos = ['A','B','C','D','E','F','G','H','I']\n",
    "data = \"\"\"9 9\n",
    "1 1 1 3 0\n",
    "1 1 1 4 0\n",
    "1 1 1 5 0\n",
    "1 3 1 6 0\n",
    "1 4 1 7 0\n",
    "1 5 1 8 0\n",
    "1 2 1 6 0\n",
    "1 2 1 7 0\n",
    "1 2 1 8 0\"\"\"\n",
    "\n",
    "print(runTPWithAllMethods(data, nombresEquipos))"
   ]
  },
  {
   "cell_type": "markdown",
   "metadata": {},
   "source": [
    "### 6 - "
   ]
  }
 ],
 "metadata": {
  "kernelspec": {
   "display_name": "Python 3",
   "language": "python",
   "name": "python3"
  },
  "language_info": {
   "codemirror_mode": {
    "name": "ipython",
    "version": 3
   },
   "file_extension": ".py",
   "mimetype": "text/x-python",
   "name": "python",
   "nbconvert_exporter": "python",
   "pygments_lexer": "ipython3",
   "version": "3.8.5"
  }
 },
 "nbformat": 4,
 "nbformat_minor": 4
}
