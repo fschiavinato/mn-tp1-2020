{
 "cells": [
  {
   "cell_type": "code",
   "execution_count": 15,
   "metadata": {},
   "outputs": [],
   "source": [
    "import numpy as np\n",
    "import matplotlib.pyplot as plt\n",
    "import pandas as pd\n",
    "from subprocess import check_output\n",
    "from tqdm import tqdm\n",
    "\n",
    "plt.rcParams['figure.figsize'] = [5, 3]\n",
    "plt.rcParams['figure.dpi'] = 200"
   ]
  },
  {
   "cell_type": "markdown",
   "metadata": {},
   "source": [
    "## Generamos los tests y los corremos y nos guardamos los tiempos"
   ]
  },
  {
   "cell_type": "code",
   "execution_count": 36,
   "metadata": {},
   "outputs": [
    {
     "name": "stderr",
     "output_type": "stream",
     "text": [
      "100%|██████████| 8/8 [04:02<00:00, 30.34s/it]\n"
     ]
    }
   ],
   "source": [
    "Ts = [250, 500, 750, 1000, 1250, 1500, 1750, 2000]\n",
    "P = 20000\n",
    "eg = []\n",
    "ch = []\n",
    "elo = []\n",
    "wp = []\n",
    "chd = []\n",
    "chsd = []\n",
    "chdr = []\n",
    "for T in tqdm(Ts):\n",
    "    P = 10*T\n",
    "    for k in range(4):\n",
    "        lines = [f'{T} {P}']\n",
    "        for _ in range(P):\n",
    "            lines += [f'1 {np.random.randint(T)} 1 {np.random.randint(T)} 0']\n",
    "        with open(f'analisis_tiempos/{T}.in', 'w+') as f:\n",
    "            f.write('\\n'.join(lines))\n",
    "        \n",
    "        out = check_output(['../tiempos',f'analisis_tiempos/{T}.in']).decode('UTF-8')\n",
    "        out = list(filter(bool, out.split('\\n')))\n",
    "        #print(out)\n",
    "        eg.append(float(out[0]))\n",
    "        ch.append(float(out[3]))\n",
    "        elo.append(float(out[2]))\n",
    "        wp.append(float(out[1]))\n",
    "        chd.append(float(out[4]))\n",
    "        chsd.append(float(out[5]))\n",
    "        chdr.append(float(out[6]))\n",
    "        "
   ]
  },
  {
   "cell_type": "markdown",
   "metadata": {},
   "source": [
    "## Ploteamos los datos"
   ]
  },
  {
   "cell_type": "code",
   "execution_count": 38,
   "metadata": {},
   "outputs": [
    {
     "ename": "NameError",
     "evalue": "name 'chd' is not defined",
     "output_type": "error",
     "traceback": [
      "\u001b[0;31m---------------------------------------------------------------------------\u001b[0m",
      "\u001b[0;31mNameError\u001b[0m                                 Traceback (most recent call last)",
      "\u001b[0;32m<ipython-input-38-2b93e83af93e>\u001b[0m in \u001b[0;36m<module>\u001b[0;34m\u001b[0m\n\u001b[1;32m      3\u001b[0m     \u001b[0;34m'CMM Eliminación Gaussiana'\u001b[0m\u001b[0;34m:\u001b[0m \u001b[0meg\u001b[0m\u001b[0;34m,\u001b[0m\u001b[0;34m\u001b[0m\u001b[0;34m\u001b[0m\u001b[0m\n\u001b[1;32m      4\u001b[0m     \u001b[0;34m'CMM Cholesky'\u001b[0m\u001b[0;34m:\u001b[0m \u001b[0mch\u001b[0m\u001b[0;34m,\u001b[0m\u001b[0;34m\u001b[0m\u001b[0;34m\u001b[0m\u001b[0m\n\u001b[0;32m----> 5\u001b[0;31m     \u001b[0;34m'CMM Disperso'\u001b[0m\u001b[0;34m:\u001b[0m \u001b[0mchd\u001b[0m\u001b[0;34m,\u001b[0m\u001b[0;34m\u001b[0m\u001b[0;34m\u001b[0m\u001b[0m\n\u001b[0m\u001b[1;32m      6\u001b[0m     \u001b[0;34m'CMM Semi-disperso'\u001b[0m\u001b[0;34m:\u001b[0m \u001b[0mchsd\u001b[0m\u001b[0;34m,\u001b[0m\u001b[0;34m\u001b[0m\u001b[0;34m\u001b[0m\u001b[0m\n\u001b[1;32m      7\u001b[0m     \u001b[0;34m'CMM Semi-disperso-rápido'\u001b[0m\u001b[0;34m:\u001b[0m \u001b[0mchdr\u001b[0m\u001b[0;34m,\u001b[0m\u001b[0;34m\u001b[0m\u001b[0;34m\u001b[0m\u001b[0m\n",
      "\u001b[0;31mNameError\u001b[0m: name 'chd' is not defined"
     ]
    }
   ],
   "source": [
    "data = {\n",
    "    'Número de equipos': Ts,\n",
    "    'CMM Eliminación Gaussiana': eg,\n",
    "    'CMM Cholesky': ch,\n",
    "    'CMM Disperso': chd,\n",
    "    'CMM Semi-disperso': chsd,\n",
    "    'CMM Semi-disperso-rápido': chdr,\n",
    "    'ELO': elo,\n",
    "    'WP': wp,\n",
    "}\n",
    "df = pd.DataFrame(data)\n",
    "#x = [250, 500, 750, 1000, 1250, 1500, 1750, 2000]\n",
    "#y1 = [0.014173,0.115485,0.409206,0.975772,1.877887,3.246010,5.169528,7.709520]   \n",
    "#y2 = [0.004756,0.032868,0.114233,0.291398,0.583481,1.013544,1.601730,2.399923]   \n",
    "\n",
    "df.plot(kind='line',x='Número de equipos',y=['CMM Eliminación Gaussiana','CMM Cholesky','ELO','WP'])\n",
    "plt.xlabel('Número de equipos')\n",
    "plt.ylabel('Tiempo (s)')\n",
    "plt.title('Análisis de tiempos entre algoritmos de ranking')\n",
    "plt.legend()\n",
    "plt.show()"
   ]
  },
  {
   "cell_type": "markdown",
   "metadata": {},
   "source": [
    "## Ploteamos los datos (con escala raíz cúbica)"
   ]
  },
  {
   "cell_type": "code",
   "execution_count": 5,
   "metadata": {},
   "outputs": [
    {
     "ename": "NameError",
     "evalue": "name 'data' is not defined",
     "output_type": "error",
     "traceback": [
      "\u001b[0;31m---------------------------------------------------------------------------\u001b[0m",
      "\u001b[0;31mNameError\u001b[0m                                 Traceback (most recent call last)",
      "\u001b[0;32m<ipython-input-5-939360431d28>\u001b[0m in \u001b[0;36m<module>\u001b[0;34m\u001b[0m\n\u001b[0;32m----> 1\u001b[0;31m \u001b[0mdata\u001b[0m\u001b[0;34m[\u001b[0m\u001b[0;34m'CMM Eliminación Gaussiana'\u001b[0m\u001b[0;34m]\u001b[0m \u001b[0;34m=\u001b[0m \u001b[0mmap\u001b[0m\u001b[0;34m(\u001b[0m\u001b[0;32mlambda\u001b[0m \u001b[0mv\u001b[0m \u001b[0;34m:\u001b[0m \u001b[0mv\u001b[0m\u001b[0;34m**\u001b[0m\u001b[0;34m(\u001b[0m\u001b[0;36m1.\u001b[0m\u001b[0;34m/\u001b[0m\u001b[0;36m3.\u001b[0m\u001b[0;34m)\u001b[0m\u001b[0;34m,\u001b[0m \u001b[0mdata\u001b[0m\u001b[0;34m[\u001b[0m\u001b[0;34m'CMM Eliminación Gaussiana'\u001b[0m\u001b[0;34m]\u001b[0m\u001b[0;34m)\u001b[0m\u001b[0;34m\u001b[0m\u001b[0;34m\u001b[0m\u001b[0m\n\u001b[0m\u001b[1;32m      2\u001b[0m \u001b[0mdata\u001b[0m\u001b[0;34m[\u001b[0m\u001b[0;34m'CMM Cholesky'\u001b[0m\u001b[0;34m]\u001b[0m \u001b[0;34m=\u001b[0m \u001b[0mmap\u001b[0m\u001b[0;34m(\u001b[0m\u001b[0;32mlambda\u001b[0m \u001b[0mv\u001b[0m \u001b[0;34m:\u001b[0m \u001b[0mv\u001b[0m\u001b[0;34m**\u001b[0m\u001b[0;34m(\u001b[0m\u001b[0;36m1.\u001b[0m\u001b[0;34m/\u001b[0m\u001b[0;36m3.\u001b[0m\u001b[0;34m)\u001b[0m\u001b[0;34m,\u001b[0m \u001b[0mdata\u001b[0m\u001b[0;34m[\u001b[0m\u001b[0;34m'CMM Cholesky'\u001b[0m\u001b[0;34m]\u001b[0m\u001b[0;34m)\u001b[0m\u001b[0;34m\u001b[0m\u001b[0;34m\u001b[0m\u001b[0m\n\u001b[1;32m      3\u001b[0m \u001b[0mdata\u001b[0m\u001b[0;34m[\u001b[0m\u001b[0;34m'ELO'\u001b[0m\u001b[0;34m]\u001b[0m \u001b[0;34m=\u001b[0m \u001b[0mmap\u001b[0m\u001b[0;34m(\u001b[0m\u001b[0;32mlambda\u001b[0m \u001b[0mv\u001b[0m \u001b[0;34m:\u001b[0m \u001b[0mv\u001b[0m\u001b[0;34m**\u001b[0m\u001b[0;34m(\u001b[0m\u001b[0;36m1.\u001b[0m\u001b[0;34m/\u001b[0m\u001b[0;36m3.\u001b[0m\u001b[0;34m)\u001b[0m\u001b[0;34m,\u001b[0m \u001b[0mdata\u001b[0m\u001b[0;34m[\u001b[0m\u001b[0;34m'ELO'\u001b[0m\u001b[0;34m]\u001b[0m\u001b[0;34m)\u001b[0m\u001b[0;34m\u001b[0m\u001b[0;34m\u001b[0m\u001b[0m\n\u001b[1;32m      4\u001b[0m \u001b[0mdata\u001b[0m\u001b[0;34m[\u001b[0m\u001b[0;34m'WP'\u001b[0m\u001b[0;34m]\u001b[0m \u001b[0;34m=\u001b[0m \u001b[0mmap\u001b[0m\u001b[0;34m(\u001b[0m\u001b[0;32mlambda\u001b[0m \u001b[0mv\u001b[0m \u001b[0;34m:\u001b[0m \u001b[0mv\u001b[0m\u001b[0;34m**\u001b[0m\u001b[0;34m(\u001b[0m\u001b[0;36m1.\u001b[0m\u001b[0;34m/\u001b[0m\u001b[0;36m3.\u001b[0m\u001b[0;34m)\u001b[0m\u001b[0;34m,\u001b[0m \u001b[0mdata\u001b[0m\u001b[0;34m[\u001b[0m\u001b[0;34m'WP'\u001b[0m\u001b[0;34m]\u001b[0m\u001b[0;34m)\u001b[0m\u001b[0;34m\u001b[0m\u001b[0;34m\u001b[0m\u001b[0m\n",
      "\u001b[0;31mNameError\u001b[0m: name 'data' is not defined"
     ]
    }
   ],
   "source": [
    "data['CMM Eliminación Gaussiana'] = map(lambda v : v**(1./3.), data['CMM Eliminación Gaussiana'])\n",
    "data['CMM Cholesky'] = map(lambda v : v**(1./3.), data['CMM Cholesky'])\n",
    "data['ELO'] = map(lambda v : v**(1./3.), data['ELO'])\n",
    "data['WP'] = map(lambda v : v**(1./3.), data['WP'])\n",
    "\n",
    "df.plot(kind='line',x='Número de equipos',y=['CMM Eliminación Gaussiana','CMM Cholesky','ELO','WP'],ax=ax)\n",
    "plt.xlabel('Número de equipos')\n",
    "plt.ylabel('Tiempo (s)')\n",
    "plt.title('Análisis de tiempos entre algoritmos de ranking')\n",
    "plt.legend()\n",
    "plt.show()"
   ]
  }
 ],
 "metadata": {
  "kernelspec": {
   "display_name": "Python 3",
   "language": "python",
   "name": "python3"
  },
  "language_info": {
   "codemirror_mode": {
    "name": "ipython",
    "version": 3
   },
   "file_extension": ".py",
   "mimetype": "text/x-python",
   "name": "python",
   "nbconvert_exporter": "python",
   "pygments_lexer": "ipython3",
   "version": "3.8.5"
  }
 },
 "nbformat": 4,
 "nbformat_minor": 4
}
