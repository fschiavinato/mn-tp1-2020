{
 "cells": [
  {
   "cell_type": "code",
   "execution_count": 28,
   "metadata": {},
   "outputs": [
    {
     "name": "stdout",
     "output_type": "stream",
     "text": [
      "['2 3', '1 1 1 2 0', '1 1 1 2 0', '1 2 1 1 0']\n"
     ]
    }
   ],
   "source": [
    "import numpy as np\n",
    "import os\n",
    "victorias = np.array([[0, 2], [1, 0]])\n",
    "name = 'prueba1'\n",
    "P = sum(sum(victorias))\n",
    "T = victorias.shape[0]\n",
    "matches = []\n",
    "for i, row in enumerate(victorias):\n",
    "    for j, aij in enumerate(row):\n",
    "        matches += aij*[f'1 {i+1} 1 {j+1} 0']\n",
    "\n",
    "with open(f'../tests/{name}.in', 'w') as file:\n",
    "    print([f'{T} {P}', *matches])\n",
    "    file.write('\\n'.join([f'{T} {P}', *matches]))\n",
    "try:\n",
    "    os.remove(f'../tests/{name}.out')\n",
    "except:\n",
    "    pass\n",
    "try:\n",
    "    os.remove(f'../tests/{name}.expected')\n",
    "except:\n",
    "    pass"
   ]
  }
 ],
 "metadata": {
  "kernelspec": {
   "display_name": "Python 3",
   "language": "python",
   "name": "python3"
  },
  "language_info": {
   "codemirror_mode": {
    "name": "ipython",
    "version": 3
   },
   "file_extension": ".py",
   "mimetype": "text/x-python",
   "name": "python",
   "nbconvert_exporter": "python",
   "pygments_lexer": "ipython3",
   "version": "3.7.3"
  }
 },
 "nbformat": 4,
 "nbformat_minor": 4
}
