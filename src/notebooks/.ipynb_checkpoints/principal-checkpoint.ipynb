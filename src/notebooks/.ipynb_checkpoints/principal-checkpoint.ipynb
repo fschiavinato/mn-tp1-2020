{
 "cells": [
  {
   "cell_type": "code",
   "execution_count": 2,
   "metadata": {},
   "outputs": [],
   "source": [
    "import numpy as np\n",
    "import pandas as pd"
   ]
  },
  {
   "cell_type": "code",
   "execution_count": 3,
   "metadata": {
    "scrolled": true
   },
   "outputs": [],
   "source": [
    "import pdb; \n",
    "\n",
    "def main(file_path):\n",
    "    file = open(file_path)\n",
    "    T, P = map(int, file.readline().split(' '))\n",
    "    c = 2*np.eye(int(T))\n",
    "    res = np.array(T)\n",
    "\n",
    "    b = [1 for _ in range(T)]\n",
    "\n",
    "    for line in file:\n",
    "        e1, g1, e2, g2 = map(int, line.split()[1:5])\n",
    "        c[e1-1][e2-1] -= 1\n",
    "        c[e2-1][e1-1] -= 1\n",
    "        c[e1-1][e1-1] += 1\n",
    "        c[e2-1][e2-1] += 1\n",
    "        #pdb.set_trace()\n",
    "        if g1 > g2:\n",
    "            b[e1-1] += 0.5\n",
    "            b[e2-1] -= 0.5\n",
    "        else:\n",
    "            b[e2-1] += 0.5\n",
    "            b[e1-1] -= 0.5\n",
    "    return np.linalg.solve(c, b)"
   ]
  },
  {
   "cell_type": "code",
   "execution_count": 8,
   "metadata": {},
   "outputs": [
    {
     "name": "stdout",
     "output_type": "stream",
     "text": [
      "[0.499938, 0.500062] [0.4999375312343752, 0.5000624687656096]\n"
     ]
    }
   ],
   "source": [
    "import re\n",
    "import os\n",
    "import subprocess\n",
    "test_files = os.listdir('../tests/')\n",
    "tests = [re.match(r\"(.*)\\.in$\", file)[1] for file in os.listdir('../tests/') if re.match(r\".*\\.in$\", file) is not None]\n",
    "r = {}\n",
    "r_ref = {}\n",
    "for test in tests:\n",
    "    test_in = f'../tests/{test}.in'\n",
    "    test_out = f'../tests/{test}.out'\n",
    "    test_expected = f'../tests/{test}.expected'\n",
    "    if f'{test}.out' not in test_files:\n",
    "        subprocess.run(['../tp', test_in, test_out, '0'])\n",
    "    if f'{test}.expected' not in test_files:\n",
    "        r_ref[test] = main(test_in)\n",
    "        with open(test_expected, 'w') as expected_file:\n",
    "            expected_file.write('\\n'.join(str(value) for value in r_ref[test]))\n",
    "    with open(test_out) as res:\n",
    "            r[test] = [float(line) for line in res]\n",
    "    with open(test_expected) as res:\n",
    "            r_ref[test] = [float(line) for line in res]\n",
    "\n",
    "test = 'prueba1'\n",
    "print(r[test], r_ref[test])"
   ]
  }
 ],
 "metadata": {
  "kernelspec": {
   "display_name": "Python 3",
   "language": "python",
   "name": "python3"
  },
  "language_info": {
   "codemirror_mode": {
    "name": "ipython",
    "version": 3
   },
   "file_extension": ".py",
   "mimetype": "text/x-python",
   "name": "python",
   "nbconvert_exporter": "python",
   "pygments_lexer": "ipython3",
   "version": "3.8.5"
  }
 },
 "nbformat": 4,
 "nbformat_minor": 4
}
