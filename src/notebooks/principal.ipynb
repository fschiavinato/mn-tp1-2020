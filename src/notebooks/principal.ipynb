{
 "cells": [
  {
   "cell_type": "code",
   "execution_count": 3,
   "metadata": {},
   "outputs": [],
   "source": [
    "import numpy as np\n",
    "import pandas as pd"
   ]
  },
  {
   "cell_type": "code",
   "execution_count": 3,
   "metadata": {
    "scrolled": true
   },
   "outputs": [],
   "source": [
    "import pdb; \n",
    "\n",
    "def main(file_path):\n",
    "    file = open(file_path)\n",
    "    T, P = map(int, file.readline().split(' '))\n",
    "    c = 2*np.eye(int(T))\n",
    "    res = np.array(T)\n",
    "\n",
    "    b = [1 for _ in range(T)]\n",
    "\n",
    "    for line in file:\n",
    "        e1, g1, e2, g2 = map(int, line.split()[1:5])\n",
    "        c[e1-1][e2-1] -= 1\n",
    "        c[e2-1][e1-1] -= 1\n",
    "        c[e1-1][e1-1] += 1\n",
    "        c[e2-1][e2-1] += 1\n",
    "        #pdb.set_trace()\n",
    "        if g1 > g2:\n",
    "            b[e1-1] += 0.5\n",
    "            b[e2-1] -= 0.5\n",
    "        else:\n",
    "            b[e2-1] += 0.5\n",
    "            b[e1-1] -= 0.5\n",
    "    return np.linalg.solve(c, b)"
   ]
  },
  {
   "cell_type": "code",
   "execution_count": 2,
   "metadata": {},
   "outputs": [
    {
     "ename": "SyntaxError",
     "evalue": "invalid syntax (<ipython-input-2-0e5288ad306f>, line 9)",
     "output_type": "error",
     "traceback": [
      "\u001b[1;36m  File \u001b[1;32m\"<ipython-input-2-0e5288ad306f>\"\u001b[1;36m, line \u001b[1;32m9\u001b[0m\n\u001b[1;33m    test_in = f'../tests/{test}.in'\u001b[0m\n\u001b[1;37m                                  ^\u001b[0m\n\u001b[1;31mSyntaxError\u001b[0m\u001b[1;31m:\u001b[0m invalid syntax\n"
     ]
    }
   ],
   "source": [
    "import re\n",
    "import os\n",
    "import subprocess\n",
    "test_files = os.listdir('../tests/')\n",
    "tests = [re.match(r\"(.*)\\.in$\", file)[1] for file in os.listdir('../tests/') if re.match(r\".*\\.in$\", file) is not None]\n",
    "r = {}\n",
    "r_ref = {}\n",
    "for test in tests:\n",
    "    test_in = f'../tests/{test}.in'\n",
    "    test_out = f'../tests/{test}.out'\n",
    "    test_expected = f'../tests/{test}.expected'\n",
    "    if f'{test}.out' not in test_files:\n",
    "        subprocess.run(['../tp', test_in, test_out, '0'])\n",
    "    if f'{test}.expected' not in test_files:\n",
    "        r_ref[test] = main(test_in)\n",
    "        with open(test_expected, 'w') as expected_file:\n",
    "            expected_file.write('\\n'.join(str(value) for value in r_ref[test]))\n",
    "    with open(test_out) as res:\n",
    "            r[test] = [float(line) for line in res]\n",
    "    with open(test_expected) as res:\n",
    "            r_ref[test] = [float(line) for line in res]\n",
    "\n",
    "test = 'prueba1'\n",
    "print(r[test], r_ref[test])"
   ]
  },
  {
   "cell_type": "code",
   "execution_count": 24,
   "metadata": {},
   "outputs": [],
   "source": [
    "a = np.array([\n",
    "[2.44949, 0, 0, 0, 0, 0],\n",
    "[-0, 2.44949, 0, 0, 0, 0],\n",
    "[-0.816497, -0.408248, 2.27303, 0, 0, 0],\n",
    "[-0.816497, -0, -0.733236, 2.40743, 0, 0],\n",
    "[-0, -0.408248, -0.0733236, -0.437714, 2.3741, 0],\n",
    "[-0, -0.816497, -0.146647, -0.460046, -1.07218, 2.225]]) \n",
    "b = np.array([\n",
    "[2.44949, 0, 0, 0, 0, 0],\n",
    "[-0, 2.44949, 0, 0, 0, 0],\n",
    "[-0.816497, -0.408248, 2.3094, 0, 0, 0],\n",
    "[-0.816497, -0, -0.721688, 2.51661, 0, 0],\n",
    "[-0, -0.408248, -0, -0.39736, 2.41523, 0],\n",
    "[-0, -0.816497, -0, -0.39736, -0.966092, 2.48504]]).T\n",
    "\n"
   ]
  },
  {
   "cell_type": "code",
   "execution_count": 9,
   "metadata": {},
   "outputs": [
    {
     "data": {
      "text/plain": [
       "array([[ 6.00000126,  0.        , -0.        , -0.        ,  0.        ,\n",
       "         0.        ],\n",
       "       [ 0.        ,  6.00000126, -0.        ,  0.        , -0.        ,\n",
       "        -0.        ],\n",
       "       [-0.        , -0.        ,  5.33332836, -0.        ,  0.        ,\n",
       "         0.        ],\n",
       "       [-0.        ,  0.        , -0.        ,  6.33332589, -0.        ,\n",
       "        -0.        ],\n",
       "       [ 0.        , -0.        ,  0.        , -0.        ,  5.83333595,\n",
       "        -0.        ],\n",
       "       [ 0.        , -0.        ,  0.        , -0.        , -0.        ,\n",
       "         6.1754238 ]])"
      ]
     },
     "execution_count": 9,
     "metadata": {},
     "output_type": "execute_result"
    }
   ],
   "source": [
    "a*b"
   ]
  },
  {
   "cell_type": "code",
   "execution_count": 25,
   "metadata": {
    "scrolled": true
   },
   "outputs": [
    {
     "name": "stdout",
     "output_type": "stream",
     "text": [
      "[[ 2.44948974  0.          0.          0.          0.          0.        ]\n",
      " [ 0.          2.44948974  0.          0.          0.          0.        ]\n",
      " [-0.81649658 -0.40824829  2.27303028  0.          0.          0.        ]\n",
      " [-0.81649658  0.         -0.73323558  2.40742579  0.          0.        ]\n",
      " [ 0.         -0.40824829 -0.07332356 -0.43771378  2.3741027   0.        ]\n",
      " [ 0.         -0.81649658 -0.14664712 -0.46004612 -1.07217541  2.22500009]]\n",
      "[[ 2.44949    0.         0.         0.         0.         0.       ]\n",
      " [ 0.         2.44949    0.         0.         0.         0.       ]\n",
      " [-0.816497  -0.408248   2.27303    0.         0.         0.       ]\n",
      " [-0.816497   0.        -0.733236   2.40743    0.         0.       ]\n",
      " [ 0.        -0.408248  -0.0733236 -0.437714   2.3741     0.       ]\n",
      " [ 0.        -0.816497  -0.146647  -0.460046  -1.07218    2.225    ]]\n"
     ]
    }
   ],
   "source": [
    "\n",
    "ch = np.linalg.cholesky(np.array([\n",
    "[6, -0, -2, -2, -0, -0],\n",
    "[-0, 6, -1, -0, -1, -2],\n",
    "[-2, -1, 6, -1, -0, -0],\n",
    "[-2, -0, -1, 7, -1, -1],\n",
    "[-0, -1, -0, -1, 6, -2],\n",
    "[-0, -2, -0, -1, -2, 7]]))\n",
    "print(ch)\n",
    "print(a)"
   ]
  },
  {
   "cell_type": "code",
   "execution_count": 30,
   "metadata": {},
   "outputs": [
    {
     "data": {
      "text/plain": [
       "array([[ 6.00000126e+00,  0.00000000e+00, -2.00000124e+00,\n",
       "        -2.00000124e+00,  0.00000000e+00,  0.00000000e+00],\n",
       "       [ 0.00000000e+00,  6.00000126e+00, -9.99999394e-01,\n",
       "         0.00000000e+00, -9.99999394e-01, -2.00000124e+00],\n",
       "       [-2.00000124e+00, -9.99999394e-01,  5.99999916e+00,\n",
       "        -1.00000007e+00, -3.13004000e-07,  2.36846000e-07],\n",
       "       [-2.00000124e+00,  0.00000000e+00, -1.00000007e+00,\n",
       "         7.00002159e+00, -1.00000231e+00, -1.00000168e+00],\n",
       "       [ 0.00000000e+00, -9.99999394e-01, -3.13004000e-07,\n",
       "        -1.00000231e+00,  5.99998714e+00, -2.00000801e+00],\n",
       "       [ 0.00000000e+00, -2.00000124e+00,  2.36846000e-07,\n",
       "        -1.00000168e+00, -2.00000801e+00,  7.00000997e+00]])"
      ]
     },
     "execution_count": 30,
     "metadata": {},
     "output_type": "execute_result"
    }
   ],
   "source": [
    "a.dot(a.T)"
   ]
  },
  {
   "cell_type": "code",
   "execution_count": null,
   "metadata": {},
   "outputs": [],
   "source": []
  }
 ],
 "metadata": {
  "kernelspec": {
   "display_name": "Python 3",
   "language": "python",
   "name": "python3"
  },
  "language_info": {
   "codemirror_mode": {
    "name": "ipython",
    "version": 3
   },
   "file_extension": ".py",
   "mimetype": "text/x-python",
   "name": "python",
   "nbconvert_exporter": "python",
   "pygments_lexer": "ipython3",
   "version": "3.8.5"
  }
 },
 "nbformat": 4,
 "nbformat_minor": 4
}
