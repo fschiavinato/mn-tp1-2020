{
 "cells": [
  {
   "cell_type": "code",
   "execution_count": 1,
   "metadata": {},
   "outputs": [],
   "source": [
    "import utils\n",
    "import numpy as np"
   ]
  },
  {
   "cell_type": "code",
   "execution_count": 2,
   "metadata": {},
   "outputs": [],
   "source": [
    "iteraciones=1\n",
    "Ts = [2**i for i in range(1,2)]\n",
    "for T in Ts:\n",
    "    for k in range(iteraciones):\n",
    "        victorias=[[np.random.randint(100)*(i!=j)  for i in range(T)] for j in range(T)]\n",
    "        utils.test_generator(f'random{T}/{k}', victorias)"
   ]
  },
  {
   "cell_type": "code",
   "execution_count": null,
   "metadata": {},
   "outputs": [
    {
     "name": "stdout",
     "output_type": "stream",
     "text": [
      "> /home/franco/Repos/facultad/mn/2020/tp1/src/notebooks/utils.py(40)results()\n",
      "-> for test in tests:\n",
      "(Pdb) tests\n",
      "['../tests/test_completo_1000_2', '../tests/test_completo_1000_8', '../tests/test_completo_100_4', '../tests/test_completo_100_8', '../tests/test_completo_10_1', '../tests/random2/0']\n",
      "(Pdb) test_files\n",
      "['../tests/test_completo_1000_2.in', '../tests/test_completo_1000_8.in', '../tests/test_completo_100_4.in', '../tests/test_completo_100_8.in', '../tests/test_completo_10_1.in', '../tests/random2/0.in']\n"
     ]
    }
   ],
   "source": [
    "utils.results()"
   ]
  }
 ],
 "metadata": {
  "kernelspec": {
   "display_name": "Python 3",
   "language": "python",
   "name": "python3"
  },
  "language_info": {
   "codemirror_mode": {
    "name": "ipython",
    "version": 3
   },
   "file_extension": ".py",
   "mimetype": "text/x-python",
   "name": "python",
   "nbconvert_exporter": "python",
   "pygments_lexer": "ipython3",
   "version": "3.8.5"
  }
 },
 "nbformat": 4,
 "nbformat_minor": 4
}
